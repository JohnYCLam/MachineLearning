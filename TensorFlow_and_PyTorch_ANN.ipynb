{
  "nbformat": 4,
  "nbformat_minor": 0,
  "metadata": {
    "colab": {
      "provenance": [],
      "authorship_tag": "ABX9TyM+RR3bloXA2PzefgqZNmtS",
      "include_colab_link": true
    },
    "kernelspec": {
      "name": "python3",
      "display_name": "Python 3"
    },
    "language_info": {
      "name": "python"
    },
    "widgets": {
      "application/vnd.jupyter.widget-state+json": {
        "2783b5fe75b441b0b1b1a2a8c4380db8": {
          "model_module": "@jupyter-widgets/controls",
          "model_name": "HBoxModel",
          "model_module_version": "1.5.0",
          "state": {
            "_dom_classes": [],
            "_model_module": "@jupyter-widgets/controls",
            "_model_module_version": "1.5.0",
            "_model_name": "HBoxModel",
            "_view_count": null,
            "_view_module": "@jupyter-widgets/controls",
            "_view_module_version": "1.5.0",
            "_view_name": "HBoxView",
            "box_style": "",
            "children": [
              "IPY_MODEL_be05f0b752f243c782b96d048f0ad9ee",
              "IPY_MODEL_8742f9667ff44d52845b9cf7541b6041",
              "IPY_MODEL_1df9277bf1ff4b9eadcdde994e8e2278"
            ],
            "layout": "IPY_MODEL_fc7d1c42a5384d7faa61fb2e9246faa0"
          }
        },
        "be05f0b752f243c782b96d048f0ad9ee": {
          "model_module": "@jupyter-widgets/controls",
          "model_name": "HTMLModel",
          "model_module_version": "1.5.0",
          "state": {
            "_dom_classes": [],
            "_model_module": "@jupyter-widgets/controls",
            "_model_module_version": "1.5.0",
            "_model_name": "HTMLModel",
            "_view_count": null,
            "_view_module": "@jupyter-widgets/controls",
            "_view_module_version": "1.5.0",
            "_view_name": "HTMLView",
            "description": "",
            "description_tooltip": null,
            "layout": "IPY_MODEL_1b7922b74bd548c793031c0af8c3b6f0",
            "placeholder": "​",
            "style": "IPY_MODEL_d61a9f9d220340f88b3846c1117c97c0",
            "value": "100%"
          }
        },
        "8742f9667ff44d52845b9cf7541b6041": {
          "model_module": "@jupyter-widgets/controls",
          "model_name": "FloatProgressModel",
          "model_module_version": "1.5.0",
          "state": {
            "_dom_classes": [],
            "_model_module": "@jupyter-widgets/controls",
            "_model_module_version": "1.5.0",
            "_model_name": "FloatProgressModel",
            "_view_count": null,
            "_view_module": "@jupyter-widgets/controls",
            "_view_module_version": "1.5.0",
            "_view_name": "ProgressView",
            "bar_style": "success",
            "description": "",
            "description_tooltip": null,
            "layout": "IPY_MODEL_a7606fae6275441b897283788c889781",
            "max": 10,
            "min": 0,
            "orientation": "horizontal",
            "style": "IPY_MODEL_4a5824688d4e46cb8d52a3fec31a98e4",
            "value": 10
          }
        },
        "1df9277bf1ff4b9eadcdde994e8e2278": {
          "model_module": "@jupyter-widgets/controls",
          "model_name": "HTMLModel",
          "model_module_version": "1.5.0",
          "state": {
            "_dom_classes": [],
            "_model_module": "@jupyter-widgets/controls",
            "_model_module_version": "1.5.0",
            "_model_name": "HTMLModel",
            "_view_count": null,
            "_view_module": "@jupyter-widgets/controls",
            "_view_module_version": "1.5.0",
            "_view_name": "HTMLView",
            "description": "",
            "description_tooltip": null,
            "layout": "IPY_MODEL_eaea4765f5e442f993aef72fcb7ac169",
            "placeholder": "​",
            "style": "IPY_MODEL_433c237ef763486c87010622438a34c5",
            "value": " 10/10 [03:04&lt;00:00, 18.49s/it]"
          }
        },
        "fc7d1c42a5384d7faa61fb2e9246faa0": {
          "model_module": "@jupyter-widgets/base",
          "model_name": "LayoutModel",
          "model_module_version": "1.2.0",
          "state": {
            "_model_module": "@jupyter-widgets/base",
            "_model_module_version": "1.2.0",
            "_model_name": "LayoutModel",
            "_view_count": null,
            "_view_module": "@jupyter-widgets/base",
            "_view_module_version": "1.2.0",
            "_view_name": "LayoutView",
            "align_content": null,
            "align_items": null,
            "align_self": null,
            "border": null,
            "bottom": null,
            "display": null,
            "flex": null,
            "flex_flow": null,
            "grid_area": null,
            "grid_auto_columns": null,
            "grid_auto_flow": null,
            "grid_auto_rows": null,
            "grid_column": null,
            "grid_gap": null,
            "grid_row": null,
            "grid_template_areas": null,
            "grid_template_columns": null,
            "grid_template_rows": null,
            "height": null,
            "justify_content": null,
            "justify_items": null,
            "left": null,
            "margin": null,
            "max_height": null,
            "max_width": null,
            "min_height": null,
            "min_width": null,
            "object_fit": null,
            "object_position": null,
            "order": null,
            "overflow": null,
            "overflow_x": null,
            "overflow_y": null,
            "padding": null,
            "right": null,
            "top": null,
            "visibility": null,
            "width": null
          }
        },
        "1b7922b74bd548c793031c0af8c3b6f0": {
          "model_module": "@jupyter-widgets/base",
          "model_name": "LayoutModel",
          "model_module_version": "1.2.0",
          "state": {
            "_model_module": "@jupyter-widgets/base",
            "_model_module_version": "1.2.0",
            "_model_name": "LayoutModel",
            "_view_count": null,
            "_view_module": "@jupyter-widgets/base",
            "_view_module_version": "1.2.0",
            "_view_name": "LayoutView",
            "align_content": null,
            "align_items": null,
            "align_self": null,
            "border": null,
            "bottom": null,
            "display": null,
            "flex": null,
            "flex_flow": null,
            "grid_area": null,
            "grid_auto_columns": null,
            "grid_auto_flow": null,
            "grid_auto_rows": null,
            "grid_column": null,
            "grid_gap": null,
            "grid_row": null,
            "grid_template_areas": null,
            "grid_template_columns": null,
            "grid_template_rows": null,
            "height": null,
            "justify_content": null,
            "justify_items": null,
            "left": null,
            "margin": null,
            "max_height": null,
            "max_width": null,
            "min_height": null,
            "min_width": null,
            "object_fit": null,
            "object_position": null,
            "order": null,
            "overflow": null,
            "overflow_x": null,
            "overflow_y": null,
            "padding": null,
            "right": null,
            "top": null,
            "visibility": null,
            "width": null
          }
        },
        "d61a9f9d220340f88b3846c1117c97c0": {
          "model_module": "@jupyter-widgets/controls",
          "model_name": "DescriptionStyleModel",
          "model_module_version": "1.5.0",
          "state": {
            "_model_module": "@jupyter-widgets/controls",
            "_model_module_version": "1.5.0",
            "_model_name": "DescriptionStyleModel",
            "_view_count": null,
            "_view_module": "@jupyter-widgets/base",
            "_view_module_version": "1.2.0",
            "_view_name": "StyleView",
            "description_width": ""
          }
        },
        "a7606fae6275441b897283788c889781": {
          "model_module": "@jupyter-widgets/base",
          "model_name": "LayoutModel",
          "model_module_version": "1.2.0",
          "state": {
            "_model_module": "@jupyter-widgets/base",
            "_model_module_version": "1.2.0",
            "_model_name": "LayoutModel",
            "_view_count": null,
            "_view_module": "@jupyter-widgets/base",
            "_view_module_version": "1.2.0",
            "_view_name": "LayoutView",
            "align_content": null,
            "align_items": null,
            "align_self": null,
            "border": null,
            "bottom": null,
            "display": null,
            "flex": null,
            "flex_flow": null,
            "grid_area": null,
            "grid_auto_columns": null,
            "grid_auto_flow": null,
            "grid_auto_rows": null,
            "grid_column": null,
            "grid_gap": null,
            "grid_row": null,
            "grid_template_areas": null,
            "grid_template_columns": null,
            "grid_template_rows": null,
            "height": null,
            "justify_content": null,
            "justify_items": null,
            "left": null,
            "margin": null,
            "max_height": null,
            "max_width": null,
            "min_height": null,
            "min_width": null,
            "object_fit": null,
            "object_position": null,
            "order": null,
            "overflow": null,
            "overflow_x": null,
            "overflow_y": null,
            "padding": null,
            "right": null,
            "top": null,
            "visibility": null,
            "width": null
          }
        },
        "4a5824688d4e46cb8d52a3fec31a98e4": {
          "model_module": "@jupyter-widgets/controls",
          "model_name": "ProgressStyleModel",
          "model_module_version": "1.5.0",
          "state": {
            "_model_module": "@jupyter-widgets/controls",
            "_model_module_version": "1.5.0",
            "_model_name": "ProgressStyleModel",
            "_view_count": null,
            "_view_module": "@jupyter-widgets/base",
            "_view_module_version": "1.2.0",
            "_view_name": "StyleView",
            "bar_color": null,
            "description_width": ""
          }
        },
        "eaea4765f5e442f993aef72fcb7ac169": {
          "model_module": "@jupyter-widgets/base",
          "model_name": "LayoutModel",
          "model_module_version": "1.2.0",
          "state": {
            "_model_module": "@jupyter-widgets/base",
            "_model_module_version": "1.2.0",
            "_model_name": "LayoutModel",
            "_view_count": null,
            "_view_module": "@jupyter-widgets/base",
            "_view_module_version": "1.2.0",
            "_view_name": "LayoutView",
            "align_content": null,
            "align_items": null,
            "align_self": null,
            "border": null,
            "bottom": null,
            "display": null,
            "flex": null,
            "flex_flow": null,
            "grid_area": null,
            "grid_auto_columns": null,
            "grid_auto_flow": null,
            "grid_auto_rows": null,
            "grid_column": null,
            "grid_gap": null,
            "grid_row": null,
            "grid_template_areas": null,
            "grid_template_columns": null,
            "grid_template_rows": null,
            "height": null,
            "justify_content": null,
            "justify_items": null,
            "left": null,
            "margin": null,
            "max_height": null,
            "max_width": null,
            "min_height": null,
            "min_width": null,
            "object_fit": null,
            "object_position": null,
            "order": null,
            "overflow": null,
            "overflow_x": null,
            "overflow_y": null,
            "padding": null,
            "right": null,
            "top": null,
            "visibility": null,
            "width": null
          }
        },
        "433c237ef763486c87010622438a34c5": {
          "model_module": "@jupyter-widgets/controls",
          "model_name": "DescriptionStyleModel",
          "model_module_version": "1.5.0",
          "state": {
            "_model_module": "@jupyter-widgets/controls",
            "_model_module_version": "1.5.0",
            "_model_name": "DescriptionStyleModel",
            "_view_count": null,
            "_view_module": "@jupyter-widgets/base",
            "_view_module_version": "1.2.0",
            "_view_name": "StyleView",
            "description_width": ""
          }
        }
      }
    }
  },
  "cells": [
    {
      "cell_type": "markdown",
      "metadata": {
        "id": "view-in-github",
        "colab_type": "text"
      },
      "source": [
        "<a href=\"https://colab.research.google.com/github/JohnYCLam/MachineLearning/blob/main/TensorFlow_and_PyTorch_ANN.ipynb\" target=\"_parent\"><img src=\"https://colab.research.google.com/assets/colab-badge.svg\" alt=\"Open In Colab\"/></a>"
      ]
    },
    {
      "cell_type": "markdown",
      "source": [
        "#MNIST Dataset Demo - Tensorflow"
      ],
      "metadata": {
        "id": "u0mnBxNCisU7"
      }
    },
    {
      "cell_type": "code",
      "execution_count": null,
      "metadata": {
        "id": "H-r-EGGtikIc"
      },
      "outputs": [],
      "source": [
        "import tensorflow as tf\n",
        "import matplotlib.pyplot as plt"
      ]
    },
    {
      "cell_type": "code",
      "source": [
        "mnist = tf.keras.datasets.mnist\n",
        "\n",
        "(x_train, y_train), (x_test, y_test) = mnist.load_data()"
      ],
      "metadata": {
        "id": "tRWHc6cR8rBU",
        "colab": {
          "base_uri": "https://localhost:8080/"
        },
        "outputId": "cf14fa14-9a56-49ce-ed71-4a299716ca38"
      },
      "execution_count": null,
      "outputs": [
        {
          "output_type": "stream",
          "name": "stdout",
          "text": [
            "Downloading data from https://storage.googleapis.com/tensorflow/tf-keras-datasets/mnist.npz\n",
            "\u001b[1m11490434/11490434\u001b[0m \u001b[32m━━━━━━━━━━━━━━━━━━━━\u001b[0m\u001b[37m\u001b[0m \u001b[1m0s\u001b[0m 0us/step\n"
          ]
        }
      ]
    },
    {
      "cell_type": "code",
      "source": [
        "x_train = x_train / 255\n",
        "x_test = x_test / 255"
      ],
      "metadata": {
        "id": "hgXs8deLsnRH"
      },
      "execution_count": null,
      "outputs": []
    },
    {
      "cell_type": "code",
      "source": [
        "image = x_train[0]\n",
        "label = y_train[0]"
      ],
      "metadata": {
        "id": "b9tRYeZ7-ir7"
      },
      "execution_count": null,
      "outputs": []
    },
    {
      "cell_type": "code",
      "source": [
        "fig, ax = plt.subplots()\n",
        "plt.imshow(image.squeeze(), cmap = \"gray\")\n",
        "ax.set_title(f'Class Label: {label}')\n",
        "plt.show();"
      ],
      "metadata": {
        "colab": {
          "base_uri": "https://localhost:8080/"
        },
        "id": "7BciFiU0-hi1",
        "outputId": "3141aa74-18fd-4d59-9ab1-9f417111b6b3"
      },
      "execution_count": null,
      "outputs": [
        {
          "output_type": "display_data",
          "data": {
            "text/plain": [
              "<Figure size 640x480 with 1 Axes>"
            ],
            "image/png": "[encoded data removed]"
          },
          "metadata": {}
        }
      ]
    },
    {
      "cell_type": "code",
      "source": [
        "image.shape"
      ],
      "metadata": {
        "colab": {
          "base_uri": "https://localhost:8080/"
        },
        "id": "zFDVVc1-RjP_",
        "outputId": "3916a0eb-5ef9-40ab-e16b-7856e5f8e841"
      },
      "execution_count": null,
      "outputs": [
        {
          "output_type": "execute_result",
          "data": {
            "text/plain": [
              "(28, 28)"
            ]
          },
          "metadata": {},
          "execution_count": 6
        }
      ]
    },
    {
      "cell_type": "code",
      "source": [
        "import numpy as np\n",
        "\n",
        "output_shape = len(np.unique(y_train))"
      ],
      "metadata": {
        "id": "rLEJmUwbeDOB"
      },
      "execution_count": null,
      "outputs": []
    },
    {
      "cell_type": "code",
      "source": [
        "from tensorflow.keras.layers import Flatten, Dense, Dropout, Dense, Input"
      ],
      "metadata": {
        "id": "LaPGxOnOBMDq"
      },
      "execution_count": null,
      "outputs": []
    },
    {
      "cell_type": "code",
      "source": [
        "def simpleModel(input_shape, output_shape, act_units, drop_outs = None, act_fcn = 'relu'):\n",
        "\n",
        "    model_sequence = [Input(shape = input_shape), Flatten()]\n",
        "    for i in range(len(act_units)):\n",
        "        model_sequence.append(Dense(act_units[i], activation = act_fcn))\n",
        "        if type(drop_outs) == list:\n",
        "            model_sequence.append(Dropout(drop_outs[i]))\n",
        "    model_sequence.append(Dense(output_shape, activation = 'softmax'))\n",
        "    model = tf.keras.models.Sequential(model_sequence)\n",
        "    return model"
      ],
      "metadata": {
        "id": "VZF8jZyvZglM"
      },
      "execution_count": null,
      "outputs": []
    },
    {
      "cell_type": "code",
      "source": [
        "model = simpleModel(image.shape, output_shape, [128], [0.2])\n",
        "model.summary()"
      ],
      "metadata": {
        "colab": {
          "base_uri": "https://localhost:8080/"
        },
        "id": "wG0hZZYBdzR7",
        "outputId": "25cab506-d543-4aa9-bf93-ae53fcfaa644"
      },
      "execution_count": null,
      "outputs": [
        {
          "output_type": "display_data",
          "data": {
            "text/plain": [
              "\u001b[1mModel: \"sequential\"\u001b[0m\n"
            ],
            "text/html": [
              "<pre style=\"white-space:pre;overflow-x:auto;line-height:normal;font-family:Menlo,'DejaVu Sans Mono',consolas,'Courier New',monospace\"><span style=\"font-weight: bold\">Model: \"sequential\"</span>\n",
              "</pre>\n"
            ]
          },
          "metadata": {}
        },
        {
          "output_type": "display_data",
          "data": {
            "text/plain": [
              "┏━━━━━━━━━━━━━━━━━━━━━━━━━━━━━━━━━━━━━━┳━━━━━━━━━━━━━━━━━━━━━━━━━━━━━┳━━━━━━━━━━━━━━━━━┓\n",
              "┃\u001b[1m \u001b[0m\u001b[1mLayer (type)                        \u001b[0m\u001b[1m \u001b[0m┃\u001b[1m \u001b[0m\u001b[1mOutput Shape               \u001b[0m\u001b[1m \u001b[0m┃\u001b[1m \u001b[0m\u001b[1m        Param #\u001b[0m\u001b[1m \u001b[0m┃\n",
              "┡━━━━━━━━━━━━━━━━━━━━━━━━━━━━━━━━━━━━━━╇━━━━━━━━━━━━━━━━━━━━━━━━━━━━━╇━━━━━━━━━━━━━━━━━┩\n",
              "│ flatten (\u001b[38;5;33mFlatten\u001b[0m)                    │ (\u001b[38;5;45mNone\u001b[0m, \u001b[38;5;34m784\u001b[0m)                 │               \u001b[38;5;34m0\u001b[0m │\n",
              "├──────────────────────────────────────┼─────────────────────────────┼─────────────────┤\n",
              "│ dense (\u001b[38;5;33mDense\u001b[0m)                        │ (\u001b[38;5;45mNone\u001b[0m, \u001b[38;5;34m128\u001b[0m)                 │         \u001b[38;5;34m100,480\u001b[0m │\n",
              "├──────────────────────────────────────┼─────────────────────────────┼─────────────────┤\n",
              "│ dropout (\u001b[38;5;33mDropout\u001b[0m)                    │ (\u001b[38;5;45mNone\u001b[0m, \u001b[38;5;34m128\u001b[0m)                 │               \u001b[38;5;34m0\u001b[0m │\n",
              "├──────────────────────────────────────┼─────────────────────────────┼─────────────────┤\n",
              "│ dense_1 (\u001b[38;5;33mDense\u001b[0m)                      │ (\u001b[38;5;45mNone\u001b[0m, \u001b[38;5;34m10\u001b[0m)                  │           \u001b[38;5;34m1,290\u001b[0m │\n",
              "└──────────────────────────────────────┴─────────────────────────────┴─────────────────┘\n"
            ],
            "text/html": [
              "<pre style=\"white-space:pre;overflow-x:auto;line-height:normal;font-family:Menlo,'DejaVu Sans Mono',consolas,'Courier New',monospace\">┏━━━━━━━━━━━━━━━━━━━━━━━━━━━━━━━━━━━━━━┳━━━━━━━━━━━━━━━━━━━━━━━━━━━━━┳━━━━━━━━━━━━━━━━━┓\n",
              "┃<span style=\"font-weight: bold\"> Layer (type)                         </span>┃<span style=\"font-weight: bold\"> Output Shape                </span>┃<span style=\"font-weight: bold\">         Param # </span>┃\n",
              "┡━━━━━━━━━━━━━━━━━━━━━━━━━━━━━━━━━━━━━━╇━━━━━━━━━━━━━━━━━━━━━━━━━━━━━╇━━━━━━━━━━━━━━━━━┩\n",
              "│ flatten (<span style=\"color: #0087ff; text-decoration-color: #0087ff\">Flatten</span>)                    │ (<span style=\"color: #00d7ff; text-decoration-color: #00d7ff\">None</span>, <span style=\"color: #00af00; text-decoration-color: #00af00\">784</span>)                 │               <span style=\"color: #00af00; text-decoration-color: #00af00\">0</span> │\n",
              "├──────────────────────────────────────┼─────────────────────────────┼─────────────────┤\n",
              "│ dense (<span style=\"color: #0087ff; text-decoration-color: #0087ff\">Dense</span>)                        │ (<span style=\"color: #00d7ff; text-decoration-color: #00d7ff\">None</span>, <span style=\"color: #00af00; text-decoration-color: #00af00\">128</span>)                 │         <span style=\"color: #00af00; text-decoration-color: #00af00\">100,480</span> │\n",
              "├──────────────────────────────────────┼─────────────────────────────┼─────────────────┤\n",
              "│ dropout (<span style=\"color: #0087ff; text-decoration-color: #0087ff\">Dropout</span>)                    │ (<span style=\"color: #00d7ff; text-decoration-color: #00d7ff\">None</span>, <span style=\"color: #00af00; text-decoration-color: #00af00\">128</span>)                 │               <span style=\"color: #00af00; text-decoration-color: #00af00\">0</span> │\n",
              "├──────────────────────────────────────┼─────────────────────────────┼─────────────────┤\n",
              "│ dense_1 (<span style=\"color: #0087ff; text-decoration-color: #0087ff\">Dense</span>)                      │ (<span style=\"color: #00d7ff; text-decoration-color: #00d7ff\">None</span>, <span style=\"color: #00af00; text-decoration-color: #00af00\">10</span>)                  │           <span style=\"color: #00af00; text-decoration-color: #00af00\">1,290</span> │\n",
              "└──────────────────────────────────────┴─────────────────────────────┴─────────────────┘\n",
              "</pre>\n"
            ]
          },
          "metadata": {}
        },
        {
          "output_type": "display_data",
          "data": {
            "text/plain": [
              "\u001b[1m Total params: \u001b[0m\u001b[38;5;34m101,770\u001b[0m (397.54 KB)\n"
            ],
            "text/html": [
              "<pre style=\"white-space:pre;overflow-x:auto;line-height:normal;font-family:Menlo,'DejaVu Sans Mono',consolas,'Courier New',monospace\"><span style=\"font-weight: bold\"> Total params: </span><span style=\"color: #00af00; text-decoration-color: #00af00\">101,770</span> (397.54 KB)\n",
              "</pre>\n"
            ]
          },
          "metadata": {}
        },
        {
          "output_type": "display_data",
          "data": {
            "text/plain": [
              "\u001b[1m Trainable params: \u001b[0m\u001b[38;5;34m101,770\u001b[0m (397.54 KB)\n"
            ],
            "text/html": [
              "<pre style=\"white-space:pre;overflow-x:auto;line-height:normal;font-family:Menlo,'DejaVu Sans Mono',consolas,'Courier New',monospace\"><span style=\"font-weight: bold\"> Trainable params: </span><span style=\"color: #00af00; text-decoration-color: #00af00\">101,770</span> (397.54 KB)\n",
              "</pre>\n"
            ]
          },
          "metadata": {}
        },
        {
          "output_type": "display_data",
          "data": {
            "text/plain": [
              "\u001b[1m Non-trainable params: \u001b[0m\u001b[38;5;34m0\u001b[0m (0.00 B)\n"
            ],
            "text/html": [
              "<pre style=\"white-space:pre;overflow-x:auto;line-height:normal;font-family:Menlo,'DejaVu Sans Mono',consolas,'Courier New',monospace\"><span style=\"font-weight: bold\"> Non-trainable params: </span><span style=\"color: #00af00; text-decoration-color: #00af00\">0</span> (0.00 B)\n",
              "</pre>\n"
            ]
          },
          "metadata": {}
        }
      ]
    },
    {
      "cell_type": "code",
      "source": [
        "# difference between sparse categorical crossentropy and categorical crossentropy\n",
        "# categorical crossentropy: the labels are in one-hot encoding, e.g. [0, 0, 0, 1]\n",
        "# sparse categorical crossentropy: the labels are single values. e.g. 3\n",
        "# https://stackoverflow.com/questions/58565394/what-is-the-difference-between-sparse-categorical-crossentropy-and-categorical-c\n",
        "def model_train(model, x_train, y_train, x_test, y_test, loss, optimizer = 'adam', metrics = ['accuracy'], epochs = 10):\n",
        "\n",
        "    model.compile(optimizer = optimizer, loss = loss, metrics = metrics)\n",
        "    result = model.fit(x_train, y_train, validation_data = (x_test, y_test), epochs = epochs)\n",
        "    return result"
      ],
      "metadata": {
        "id": "S4D32zlhSCh3"
      },
      "execution_count": null,
      "outputs": []
    },
    {
      "cell_type": "code",
      "source": [
        "result = model_train(model, x_train, y_train, x_test, y_test, 'sparse_categorical_crossentropy')"
      ],
      "metadata": {
        "colab": {
          "base_uri": "https://localhost:8080/"
        },
        "id": "tMRz26RHkpTA",
        "outputId": "8162a6df-96dd-471a-8fa0-54103b1adfdb"
      },
      "execution_count": null,
      "outputs": [
        {
          "output_type": "stream",
          "name": "stdout",
          "text": [
            "Epoch 1/10\n",
            "\u001b[1m1875/1875\u001b[0m \u001b[32m━━━━━━━━━━━━━━━━━━━━\u001b[0m\u001b[37m\u001b[0m \u001b[1m10s\u001b[0m 4ms/step - accuracy: 0.8572 - loss: 0.4822 - val_accuracy: 0.9601 - val_loss: 0.1342\n",
            "Epoch 2/10\n",
            "\u001b[1m1875/1875\u001b[0m \u001b[32m━━━━━━━━━━━━━━━━━━━━\u001b[0m\u001b[37m\u001b[0m \u001b[1m11s\u001b[0m 4ms/step - accuracy: 0.9561 - loss: 0.1481 - val_accuracy: 0.9699 - val_loss: 0.0973\n",
            "Epoch 3/10\n",
            "\u001b[1m1875/1875\u001b[0m \u001b[32m━━━━━━━━━━━━━━━━━━━━\u001b[0m\u001b[37m\u001b[0m \u001b[1m7s\u001b[0m 4ms/step - accuracy: 0.9685 - loss: 0.1062 - val_accuracy: 0.9725 - val_loss: 0.0841\n",
            "Epoch 4/10\n",
            "\u001b[1m1875/1875\u001b[0m \u001b[32m━━━━━━━━━━━━━━━━━━━━\u001b[0m\u001b[37m\u001b[0m \u001b[1m9s\u001b[0m 3ms/step - accuracy: 0.9743 - loss: 0.0829 - val_accuracy: 0.9751 - val_loss: 0.0787\n",
            "Epoch 5/10\n",
            "\u001b[1m1875/1875\u001b[0m \u001b[32m━━━━━━━━━━━━━━━━━━━━\u001b[0m\u001b[37m\u001b[0m \u001b[1m8s\u001b[0m 4ms/step - accuracy: 0.9760 - loss: 0.0732 - val_accuracy: 0.9777 - val_loss: 0.0734\n",
            "Epoch 6/10\n",
            "\u001b[1m1875/1875\u001b[0m \u001b[32m━━━━━━━━━━━━━━━━━━━━\u001b[0m\u001b[37m\u001b[0m \u001b[1m6s\u001b[0m 3ms/step - accuracy: 0.9808 - loss: 0.0601 - val_accuracy: 0.9806 - val_loss: 0.0651\n",
            "Epoch 7/10\n",
            "\u001b[1m1875/1875\u001b[0m \u001b[32m━━━━━━━━━━━━━━━━━━━━\u001b[0m\u001b[37m\u001b[0m \u001b[1m8s\u001b[0m 4ms/step - accuracy: 0.9815 - loss: 0.0569 - val_accuracy: 0.9793 - val_loss: 0.0705\n",
            "Epoch 8/10\n",
            "\u001b[1m1875/1875\u001b[0m \u001b[32m━━━━━━━━━━━━━━━━━━━━\u001b[0m\u001b[37m\u001b[0m \u001b[1m11s\u001b[0m 4ms/step - accuracy: 0.9839 - loss: 0.0470 - val_accuracy: 0.9796 - val_loss: 0.0758\n",
            "Epoch 9/10\n",
            "\u001b[1m1875/1875\u001b[0m \u001b[32m━━━━━━━━━━━━━━━━━━━━\u001b[0m\u001b[37m\u001b[0m \u001b[1m7s\u001b[0m 4ms/step - accuracy: 0.9850 - loss: 0.0464 - val_accuracy: 0.9802 - val_loss: 0.0691\n",
            "Epoch 10/10\n",
            "\u001b[1m1875/1875\u001b[0m \u001b[32m━━━━━━━━━━━━━━━━━━━━\u001b[0m\u001b[37m\u001b[0m \u001b[1m8s\u001b[0m 4ms/step - accuracy: 0.9870 - loss: 0.0411 - val_accuracy: 0.9809 - val_loss: 0.0699\n"
          ]
        }
      ]
    },
    {
      "cell_type": "code",
      "source": [
        "#if we use categorical crossentropy, we have to convert the labels into one-hot encoding first\n",
        "\n",
        "y_train = tf.one_hot(y_train, depth = 10)\n",
        "y_test = tf.one_hot(y_test, depth = 10)\n",
        "\n",
        "model_2 = simpleModel(image.shape, output_shape, [128], [0.2])\n",
        "result_2 = model_train(model_2, x_train, y_train, x_test, y_test, 'categorical_crossentropy')"
      ],
      "metadata": {
        "colab": {
          "base_uri": "https://localhost:8080/"
        },
        "id": "PcCxj7cYXzk-",
        "outputId": "66d49bff-aa8e-4186-9454-db58498df0da"
      },
      "execution_count": null,
      "outputs": [
        {
          "output_type": "stream",
          "name": "stdout",
          "text": [
            "Epoch 1/10\n",
            "\u001b[1m1875/1875\u001b[0m \u001b[32m━━━━━━━━━━━━━━━━━━━━\u001b[0m\u001b[37m\u001b[0m \u001b[1m8s\u001b[0m 4ms/step - accuracy: 0.8526 - loss: 0.4962 - val_accuracy: 0.9613 - val_loss: 0.1355\n",
            "Epoch 2/10\n",
            "\u001b[1m1875/1875\u001b[0m \u001b[32m━━━━━━━━━━━━━━━━━━━━\u001b[0m\u001b[37m\u001b[0m \u001b[1m9s\u001b[0m 3ms/step - accuracy: 0.9563 - loss: 0.1507 - val_accuracy: 0.9676 - val_loss: 0.1001\n",
            "Epoch 3/10\n",
            "\u001b[1m1875/1875\u001b[0m \u001b[32m━━━━━━━━━━━━━━━━━━━━\u001b[0m\u001b[37m\u001b[0m \u001b[1m10s\u001b[0m 3ms/step - accuracy: 0.9652 - loss: 0.1140 - val_accuracy: 0.9708 - val_loss: 0.0904\n",
            "Epoch 4/10\n",
            "\u001b[1m1875/1875\u001b[0m \u001b[32m━━━━━━━━━━━━━━━━━━━━\u001b[0m\u001b[37m\u001b[0m \u001b[1m11s\u001b[0m 4ms/step - accuracy: 0.9730 - loss: 0.0870 - val_accuracy: 0.9774 - val_loss: 0.0786\n",
            "Epoch 5/10\n",
            "\u001b[1m1875/1875\u001b[0m \u001b[32m━━━━━━━━━━━━━━━━━━━━\u001b[0m\u001b[37m\u001b[0m \u001b[1m8s\u001b[0m 4ms/step - accuracy: 0.9768 - loss: 0.0736 - val_accuracy: 0.9774 - val_loss: 0.0737\n",
            "Epoch 6/10\n",
            "\u001b[1m1875/1875\u001b[0m \u001b[32m━━━━━━━━━━━━━━━━━━━━\u001b[0m\u001b[37m\u001b[0m \u001b[1m7s\u001b[0m 4ms/step - accuracy: 0.9793 - loss: 0.0649 - val_accuracy: 0.9785 - val_loss: 0.0697\n",
            "Epoch 7/10\n",
            "\u001b[1m1875/1875\u001b[0m \u001b[32m━━━━━━━━━━━━━━━━━━━━\u001b[0m\u001b[37m\u001b[0m \u001b[1m8s\u001b[0m 4ms/step - accuracy: 0.9818 - loss: 0.0549 - val_accuracy: 0.9778 - val_loss: 0.0668\n",
            "Epoch 8/10\n",
            "\u001b[1m1875/1875\u001b[0m \u001b[32m━━━━━━━━━━━━━━━━━━━━\u001b[0m\u001b[37m\u001b[0m \u001b[1m6s\u001b[0m 3ms/step - accuracy: 0.9832 - loss: 0.0518 - val_accuracy: 0.9778 - val_loss: 0.0684\n",
            "Epoch 9/10\n",
            "\u001b[1m1875/1875\u001b[0m \u001b[32m━━━━━━━━━━━━━━━━━━━━\u001b[0m\u001b[37m\u001b[0m \u001b[1m11s\u001b[0m 4ms/step - accuracy: 0.9855 - loss: 0.0457 - val_accuracy: 0.9793 - val_loss: 0.0671\n",
            "Epoch 10/10\n",
            "\u001b[1m1875/1875\u001b[0m \u001b[32m━━━━━━━━━━━━━━━━━━━━\u001b[0m\u001b[37m\u001b[0m \u001b[1m8s\u001b[0m 4ms/step - accuracy: 0.9864 - loss: 0.0411 - val_accuracy: 0.9800 - val_loss: 0.0706\n"
          ]
        }
      ]
    },
    {
      "cell_type": "code",
      "source": [
        "fig, ax = plt.subplots(1,2, figsize = (8, 4), sharey = True)\n",
        "\n",
        "ax[0].plot(result.history['accuracy'], label = 'acc')\n",
        "ax[0].plot(result.history['val_accuracy'], label = 'val_acc')\n",
        "ax[0].set_title('Model 1 Accuracy')\n",
        "ax[0].legend()\n",
        "ax[1].plot(result_2.history['accuracy'], label = 'acc')\n",
        "ax[1].plot(result_2.history['val_accuracy'], label = 'val_acc')\n",
        "ax[1].set_title('Model 2 Accuracy')\n",
        "ax[1].legend()\n",
        "plt.show()"
      ],
      "metadata": {
        "colab": {
          "base_uri": "https://localhost:8080/"
        },
        "id": "mytvl8UEl5rZ",
        "outputId": "e3891dc0-8e09-47eb-d8ec-f8623cd30ab1"
      },
      "execution_count": null,
      "outputs": [
        {
          "output_type": "display_data",
          "data": {
            "text/plain": [
              "<Figure size 800x400 with 2 Axes>"
            ],
            "image/png": "[encoded data removed]"
          },
          "metadata": {}
        }
      ]
    },
    {
      "cell_type": "code",
      "source": [
        "fig, ax = plt.subplots(1,2, figsize = (8, 4), sharey = True)\n",
        "\n",
        "ax[0].plot(result.history['loss'], label = 'loss')\n",
        "ax[0].plot(result.history['val_loss'], label = 'val_loss')\n",
        "ax[0].set_title('Model 1 Loss')\n",
        "ax[0].legend()\n",
        "ax[1].plot(result_2.history['loss'], label = 'loss')\n",
        "ax[1].plot(result_2.history['val_loss'], label = 'val_loss')\n",
        "ax[1].set_title('Model 2 Loss')\n",
        "ax[1].legend()\n",
        "plt.show()"
      ],
      "metadata": {
        "colab": {
          "base_uri": "https://localhost:8080/"
        },
        "id": "KQBrOcc2ohUu",
        "outputId": "f2be1337-d18c-491b-e04d-dc58311e8dd2"
      },
      "execution_count": null,
      "outputs": [
        {
          "output_type": "display_data",
          "data": {
            "text/plain": [
              "<Figure size 800x400 with 2 Axes>"
            ],
            "image/png": "[encoded data removed]"
          },
          "metadata": {}
        }
      ]
    },
    {
      "cell_type": "markdown",
      "source": [
        "#MNIST Dataset Demo - PyTorch"
      ],
      "metadata": {
        "id": "hHK3UZCp4cOf"
      }
    },
    {
      "cell_type": "code",
      "source": [
        "import torch\n",
        "from torch import nn\n",
        "\n",
        "import torchvision\n",
        "from torchvision.transforms import ToTensor\n",
        "\n",
        "import matplotlib.pyplot as plt"
      ],
      "metadata": {
        "id": "KctdrEi14jqt"
      },
      "execution_count": null,
      "outputs": []
    },
    {
      "cell_type": "code",
      "source": [
        "!pip install torchinfo\n",
        "!pip install torchmetrics"
      ],
      "metadata": {
        "colab": {
          "base_uri": "https://localhost:8080/"
        },
        "id": "wKft3mpXSxxI",
        "outputId": "28bdddce-547f-43ea-ae58-9d7c3bcd3b92"
      },
      "execution_count": null,
      "outputs": [
        {
          "output_type": "stream",
          "name": "stdout",
          "text": [
            "Collecting torchinfo\n",
            "  Downloading torchinfo-1.8.0-py3-none-any.whl.metadata (21 kB)\n",
            "Downloading torchinfo-1.8.0-py3-none-any.whl (23 kB)\n",
            "Installing collected packages: torchinfo\n",
            "Successfully installed torchinfo-1.8.0\n",
            "Collecting torchmetrics\n",
            "  Downloading torchmetrics-1.6.0-py3-none-any.whl.metadata (20 kB)\n",
            "Requirement already satisfied: numpy>1.20.0 in /usr/local/lib/python3.10/dist-packages (from torchmetrics) (1.26.4)\n",
            "Requirement already satisfied: packaging>17.1 in /usr/local/lib/python3.10/dist-packages (from torchmetrics) (24.2)\n",
            "Requirement already satisfied: torch>=2.0.0 in /usr/local/lib/python3.10/dist-packages (from torchmetrics) (2.5.1+cu121)\n",
            "Collecting lightning-utilities>=0.8.0 (from torchmetrics)\n",
            "  Downloading lightning_utilities-0.11.9-py3-none-any.whl.metadata (5.2 kB)\n",
            "Requirement already satisfied: setuptools in /usr/local/lib/python3.10/dist-packages (from lightning-utilities>=0.8.0->torchmetrics) (75.1.0)\n",
            "Requirement already satisfied: typing-extensions in /usr/local/lib/python3.10/dist-packages (from lightning-utilities>=0.8.0->torchmetrics) (4.12.2)\n",
            "Requirement already satisfied: filelock in /usr/local/lib/python3.10/dist-packages (from torch>=2.0.0->torchmetrics) (3.16.1)\n",
            "Requirement already satisfied: networkx in /usr/local/lib/python3.10/dist-packages (from torch>=2.0.0->torchmetrics) (3.4.2)\n",
            "Requirement already satisfied: jinja2 in /usr/local/lib/python3.10/dist-packages (from torch>=2.0.0->torchmetrics) (3.1.4)\n",
            "Requirement already satisfied: fsspec in /usr/local/lib/python3.10/dist-packages (from torch>=2.0.0->torchmetrics) (2024.10.0)\n",
            "Requirement already satisfied: sympy==1.13.1 in /usr/local/lib/python3.10/dist-packages (from torch>=2.0.0->torchmetrics) (1.13.1)\n",
            "Requirement already satisfied: mpmath<1.4,>=1.1.0 in /usr/local/lib/python3.10/dist-packages (from sympy==1.13.1->torch>=2.0.0->torchmetrics) (1.3.0)\n",
            "Requirement already satisfied: MarkupSafe>=2.0 in /usr/local/lib/python3.10/dist-packages (from jinja2->torch>=2.0.0->torchmetrics) (3.0.2)\n",
            "Downloading torchmetrics-1.6.0-py3-none-any.whl (926 kB)\n",
            "\u001b[2K   \u001b[90m━━━━━━━━━━━━━━━━━━━━━━━━━━━━━━━━━━━━━━━━\u001b[0m \u001b[32m926.4/926.4 kB\u001b[0m \u001b[31m17.8 MB/s\u001b[0m eta \u001b[36m0:00:00\u001b[0m\n",
            "\u001b[?25hDownloading lightning_utilities-0.11.9-py3-none-any.whl (28 kB)\n",
            "Installing collected packages: lightning-utilities, torchmetrics\n",
            "Successfully installed lightning-utilities-0.11.9 torchmetrics-1.6.0\n"
          ]
        }
      ]
    },
    {
      "cell_type": "code",
      "source": [
        "if torch.cuda.is_available():\n",
        "    device = \"cuda\"\n",
        "else:\n",
        "    device = \"cpu\""
      ],
      "metadata": {
        "id": "2yHiFit-5Yxg"
      },
      "execution_count": null,
      "outputs": []
    },
    {
      "cell_type": "code",
      "source": [
        "train_data = torchvision.datasets.MNIST(\"data\", train = True, download = True, transform = ToTensor())\n",
        "test_data = torchvision.datasets.MNIST(\"data\", train = False, download = True, transform = ToTensor())\n",
        "\n",
        "print(f'No. of training data: {len(train_data)} | No. of test data: {len(test_data)}')"
      ],
      "metadata": {
        "colab": {
          "base_uri": "https://localhost:8080/"
        },
        "id": "mP0uWHeH7rp8",
        "outputId": "edae7f1f-c788-4c6b-bd27-751b771d790e"
      },
      "execution_count": null,
      "outputs": [
        {
          "output_type": "stream",
          "name": "stdout",
          "text": [
            "No. of training data: 60000 | No. of test data: 10000\n"
          ]
        }
      ]
    },
    {
      "cell_type": "code",
      "source": [
        "image, label = train_data[0]\n",
        "image.shape, label"
      ],
      "metadata": {
        "colab": {
          "base_uri": "https://localhost:8080/"
        },
        "id": "2VmcwxsG_VaR",
        "outputId": "665f7324-d965-45b7-abb1-5e80f5a5a1c5"
      },
      "execution_count": null,
      "outputs": [
        {
          "output_type": "execute_result",
          "data": {
            "text/plain": [
              "(torch.Size([1, 28, 28]), 5)"
            ]
          },
          "metadata": {},
          "execution_count": 42
        }
      ]
    },
    {
      "cell_type": "code",
      "source": [
        "class_names = train_data.classes\n",
        "print(class_names)"
      ],
      "metadata": {
        "colab": {
          "base_uri": "https://localhost:8080/"
        },
        "id": "6JjqlMqyDgXh",
        "outputId": "26ea6405-0a1c-4322-a229-94ca21c18f64"
      },
      "execution_count": null,
      "outputs": [
        {
          "output_type": "stream",
          "name": "stdout",
          "text": [
            "['0 - zero', '1 - one', '2 - two', '3 - three', '4 - four', '5 - five', '6 - six', '7 - seven', '8 - eight', '9 - nine']\n"
          ]
        }
      ]
    },
    {
      "cell_type": "code",
      "source": [
        "fig, ax = plt.subplots()\n",
        "plt.imshow(image.squeeze(), cmap = \"gray\")\n",
        "ax.set_title(f'Class Label: {label}')\n",
        "plt.show();"
      ],
      "metadata": {
        "colab": {
          "base_uri": "https://localhost:8080/",
          "height": 452
        },
        "id": "yVTLXrtwFM6h",
        "outputId": "e6d62ceb-f61a-4853-c5d5-547707001726"
      },
      "execution_count": null,
      "outputs": [
        {
          "output_type": "display_data",
          "data": {
            "text/plain": [
              "<Figure size 640x480 with 1 Axes>"
            ],
            "image/png": "[encoded data removed]"
          },
          "metadata": {}
        }
      ]
    },
    {
      "cell_type": "code",
      "source": [
        "class simplePyTorchModel(nn.Module):\n",
        "    def __init__(self, input_shape, output_shape, act_units, drop_outs = None, act_fcn = 'relu'):\n",
        "        super().__init__()\n",
        "        model_sequence = [nn.Flatten()]\n",
        "\n",
        "        act_units.insert(0, input_shape)\n",
        "\n",
        "        for i in range(len(act_units) - 1):\n",
        "\n",
        "            model_sequence.append(nn.Linear(act_units[i], act_units[i + 1]))\n",
        "\n",
        "            if act_fcn == 'relu':\n",
        "                model_sequence.append(nn.ReLU())\n",
        "            elif act_fcn == 'tanh':\n",
        "                model_sequence.append(nn.Tanh())\n",
        "            elif act_fcn == 'sigmoid':\n",
        "                model_sequence.append(nn.Sigmoid())\n",
        "            else:\n",
        "                raise Exception(\"Unsupported Activation Function\")\n",
        "\n",
        "            if type(drop_outs) == list:\n",
        "                model_sequence.append(nn.Dropout(drop_outs[i]))\n",
        "\n",
        "        model_sequence.append(nn.Linear(act_units[-1], output_shape))\n",
        "\n",
        "        self.block = nn.Sequential(*model_sequence)\n",
        "\n",
        "    def forward(self, x):\n",
        "        return self.block(x)"
      ],
      "metadata": {
        "id": "hWjfSsuWFdt5"
      },
      "execution_count": null,
      "outputs": []
    },
    {
      "cell_type": "code",
      "source": [
        "model = simplePyTorchModel(image.shape[1] * image.shape[2], len(class_names), [128], [0.2])\n",
        "model.to(device)"
      ],
      "metadata": {
        "colab": {
          "base_uri": "https://localhost:8080/"
        },
        "id": "zAZmrhiyQXXo",
        "outputId": "879e4854-f4e7-490f-ba42-c245154337ec"
      },
      "execution_count": null,
      "outputs": [
        {
          "output_type": "execute_result",
          "data": {
            "text/plain": [
              "simplePyTorchModel(\n",
              "  (block): Sequential(\n",
              "    (0): Flatten(start_dim=1, end_dim=-1)\n",
              "    (1): Linear(in_features=784, out_features=128, bias=True)\n",
              "    (2): ReLU()\n",
              "    (3): Dropout(p=0.2, inplace=False)\n",
              "    (4): Linear(in_features=128, out_features=10, bias=True)\n",
              "  )\n",
              ")"
            ]
          },
          "metadata": {},
          "execution_count": 46
        }
      ]
    },
    {
      "cell_type": "code",
      "source": [
        "from torchinfo import summary\n",
        "\n",
        "summary(model, input_size = (50000, 1, 28, 28))"
      ],
      "metadata": {
        "colab": {
          "base_uri": "https://localhost:8080/"
        },
        "id": "mcBTiHR0S-42",
        "outputId": "250a42ec-dc5c-412d-d907-88e65616412c"
      },
      "execution_count": null,
      "outputs": [
        {
          "output_type": "execute_result",
          "data": {
            "text/plain": [
              "==========================================================================================\n",
              "Layer (type:depth-idx)                   Output Shape              Param #\n",
              "==========================================================================================\n",
              "simplePyTorchModel                       [50000, 10]               --\n",
              "├─Sequential: 1-1                        [50000, 10]               --\n",
              "│    └─Flatten: 2-1                      [50000, 784]              --\n",
              "│    └─Linear: 2-2                       [50000, 128]              100,480\n",
              "│    └─ReLU: 2-3                         [50000, 128]              --\n",
              "│    └─Dropout: 2-4                      [50000, 128]              --\n",
              "│    └─Linear: 2-5                       [50000, 10]               1,290\n",
              "==========================================================================================\n",
              "Total params: 101,770\n",
              "Trainable params: 101,770\n",
              "Non-trainable params: 0\n",
              "Total mult-adds (G): 5.09\n",
              "==========================================================================================\n",
              "Input size (MB): 156.80\n",
              "Forward/backward pass size (MB): 55.20\n",
              "Params size (MB): 0.41\n",
              "Estimated Total Size (MB): 212.41\n",
              "=========================================================================================="
            ]
          },
          "metadata": {},
          "execution_count": 47
        }
      ]
    },
    {
      "cell_type": "code",
      "source": [
        "from torch.utils.data import DataLoader\n",
        "\n",
        "def dataloader(train_data, test_data, batch_size):\n",
        "\n",
        "    train_dataloader = DataLoader(train_data, batch_size = batch_size, shuffle = True)\n",
        "    test_dataloader = DataLoader(test_data, batch_size = batch_size, shuffle = False)\n",
        "\n",
        "    return train_dataloader, test_dataloader"
      ],
      "metadata": {
        "id": "_06AQhwqft1m"
      },
      "execution_count": null,
      "outputs": []
    },
    {
      "cell_type": "code",
      "source": [
        "train_dataloader, test_dataloader = dataloader(train_data, test_data, 32)\n",
        "\n",
        "print(f'Number of batches in train data: {len(train_dataloader)}')\n",
        "print(f'Number of batches in test data: {len(test_dataloader)}')"
      ],
      "metadata": {
        "colab": {
          "base_uri": "https://localhost:8080/"
        },
        "id": "F7WP6LHpVfGm",
        "outputId": "b54f7b10-70a2-486a-a787-545ad623b197"
      },
      "execution_count": null,
      "outputs": [
        {
          "output_type": "stream",
          "name": "stdout",
          "text": [
            "Number of batches in train data: 1875\n",
            "Number of batches in test data: 313\n"
          ]
        }
      ]
    },
    {
      "cell_type": "code",
      "source": [
        "import torchmetrics\n",
        "\n",
        "acc_fcn = torchmetrics.Accuracy(task = 'multiclass', num_classes = len(class_names)).to(device)\n",
        "loss_fcn = nn.CrossEntropyLoss()\n",
        "optimizer = torch.optim.Adam(params = model.parameters(), lr = 0.001)"
      ],
      "metadata": {
        "id": "wjaa3DIXXiiN"
      },
      "execution_count": null,
      "outputs": []
    },
    {
      "cell_type": "code",
      "source": [
        "def train_step(model, device, loss_fcn, acc_fcn, optimizer, X_train, y_train, train_loss, train_acc, batch):\n",
        "\n",
        "    X_train = X_train.to(device)\n",
        "    y_train = y_train.to(device)\n",
        "\n",
        "    model.train()\n",
        "\n",
        "    y_train_pred = model(X_train)\n",
        "\n",
        "    batch_loss = loss_fcn(y_train_pred, y_train)\n",
        "    train_loss += batch_loss\n",
        "    train_acc += acc_fcn(y_train_pred, y_train)\n",
        "\n",
        "    optimizer.zero_grad()\n",
        "\n",
        "    batch_loss.backward()\n",
        "\n",
        "    optimizer.step()\n",
        "\n",
        "    if batch % 400 == 0:\n",
        "        print(f'Read through {batch * len(X_train)}/{len(train_dataloader.dataset)} samples')\n",
        "\n",
        "    return train_loss, train_acc\n"
      ],
      "metadata": {
        "id": "OGEFhxpdfTrO"
      },
      "execution_count": null,
      "outputs": []
    },
    {
      "cell_type": "code",
      "source": [
        "def test_eval(model, device, loss_fcn, acc_fcn, optimizer, test_dataloader):\n",
        "\n",
        "    test_loss = 0\n",
        "    test_acc = 0\n",
        "\n",
        "    model.eval()\n",
        "\n",
        "    with torch.inference_mode():\n",
        "        for X_test, y_test in test_dataloader:\n",
        "\n",
        "            X_test = X_test.to(device)\n",
        "            y_test = y_test.to(device)\n",
        "\n",
        "            y_test_pred = model(X_test)\n",
        "\n",
        "            test_loss += loss_fcn(y_test_pred, y_test)\n",
        "            test_acc += acc_fcn(y_test_pred, y_test)\n",
        "\n",
        "        test_loss /= len(test_dataloader)\n",
        "        test_acc /= len(test_dataloader)\n",
        "\n",
        "    return test_loss, test_acc"
      ],
      "metadata": {
        "id": "N0MeFAFFoe17"
      },
      "execution_count": null,
      "outputs": []
    },
    {
      "cell_type": "code",
      "source": [
        "from tqdm.auto import tqdm\n",
        "from timeit import default_timer as timer\n",
        "\n",
        "def model_training(model, device, loss_fcn, acc_fcn, optimizer, train_dataloader, test_dataloader, epochs = 10):\n",
        "    total_start_time = timer()\n",
        "    for epoch in tqdm(range(epochs)):\n",
        "        epoch_start_time = timer()\n",
        "        print(f'Epoch: {epoch + 1}')\n",
        "\n",
        "        train_loss = 0\n",
        "        train_acc = 0\n",
        "\n",
        "        for batch, (X_train, y_train) in enumerate(train_dataloader):\n",
        "            train_loss, train_acc = train_step(model, device, loss_fcn, acc_fcn, optimizer, X_train, y_train, train_loss, train_acc, batch)\n",
        "\n",
        "        train_loss /= len(train_dataloader)\n",
        "        train_acc /= len(train_dataloader)\n",
        "\n",
        "        test_loss, test_acc = test_eval(model, device, loss_fcn, acc_fcn, optimizer, test_dataloader)\n",
        "\n",
        "        epoch_end_time = timer()\n",
        "\n",
        "        print(f\"\\nEpoch Train Time: {epoch_end_time - epoch_start_time:.4f}\")\n",
        "        print(f\"Train Accuracy: {train_acc:.4f} | Train Loss: {train_loss:.4f} | Test Accuracy: {test_acc:.4f} | Test Loss: {test_loss:.4f} \\n\")\n",
        "\n",
        "    total_end_time = timer()\n",
        "    print(f\"Total Time: {total_end_time - total_start_time:.4f}\")"
      ],
      "metadata": {
        "id": "OBoy3Ya-qRtG"
      },
      "execution_count": null,
      "outputs": []
    },
    {
      "cell_type": "code",
      "source": [
        "model_training(model, device, loss_fcn, acc_fcn, optimizer, train_dataloader, test_dataloader)"
      ],
      "metadata": {
        "colab": {
          "base_uri": "https://localhost:8080/",
          "height": 1000,
          "referenced_widgets": [
            "2783b5fe75b441b0b1b1a2a8c4380db8",
            "be05f0b752f243c782b96d048f0ad9ee",
            "8742f9667ff44d52845b9cf7541b6041",
            "1df9277bf1ff4b9eadcdde994e8e2278",
            "fc7d1c42a5384d7faa61fb2e9246faa0",
            "1b7922b74bd548c793031c0af8c3b6f0",
            "d61a9f9d220340f88b3846c1117c97c0",
            "a7606fae6275441b897283788c889781",
            "4a5824688d4e46cb8d52a3fec31a98e4",
            "eaea4765f5e442f993aef72fcb7ac169",
            "433c237ef763486c87010622438a34c5"
          ]
        },
        "id": "_33vS_I2ruO2",
        "outputId": "b1ce7ad5-02a7-4b2e-92df-8a3ae4ce4722"
      },
      "execution_count": null,
      "outputs": [
        {
          "output_type": "display_data",
          "data": {
            "text/plain": [
              "  0%|          | 0/10 [00:00<?, ?it/s]"
            ],
            "application/vnd.jupyter.widget-view+json": {
              "version_major": 2,
              "version_minor": 0,
              "model_id": "2783b5fe75b441b0b1b1a2a8c4380db8"
            }
          },
          "metadata": {}
        },
        {
          "output_type": "stream",
          "name": "stdout",
          "text": [
            "Epoch: 1\n",
            "Read through 0/60000 samples\n",
            "Read through 12800/60000 samples\n",
            "Read through 25600/60000 samples\n",
            "Read through 38400/60000 samples\n",
            "Read through 51200/60000 samples\n",
            "\n",
            "Epoch Train Time: 18.4699\n",
            "Train Accuracy: 0.9643 | Train Loss: 0.1172 | Test Accuracy: 0.9704 | Test Loss: 0.0907 \n",
            "\n",
            "Epoch: 2\n",
            "Read through 0/60000 samples\n",
            "Read through 12800/60000 samples\n",
            "Read through 25600/60000 samples\n",
            "Read through 38400/60000 samples\n",
            "Read through 51200/60000 samples\n",
            "\n",
            "Epoch Train Time: 18.8310\n",
            "Train Accuracy: 0.9714 | Train Loss: 0.0941 | Test Accuracy: 0.9729 | Test Loss: 0.0880 \n",
            "\n",
            "Epoch: 3\n",
            "Read through 0/60000 samples\n",
            "Read through 12800/60000 samples\n",
            "Read through 25600/60000 samples\n",
            "Read through 38400/60000 samples\n",
            "Read through 51200/60000 samples\n",
            "\n",
            "Epoch Train Time: 18.1785\n",
            "Train Accuracy: 0.9750 | Train Loss: 0.0805 | Test Accuracy: 0.9763 | Test Loss: 0.0764 \n",
            "\n",
            "Epoch: 4\n",
            "Read through 0/60000 samples\n",
            "Read through 12800/60000 samples\n",
            "Read through 25600/60000 samples\n",
            "Read through 38400/60000 samples\n",
            "Read through 51200/60000 samples\n",
            "\n",
            "Epoch Train Time: 17.7608\n",
            "Train Accuracy: 0.9778 | Train Loss: 0.0708 | Test Accuracy: 0.9784 | Test Loss: 0.0746 \n",
            "\n",
            "Epoch: 5\n",
            "Read through 0/60000 samples\n",
            "Read through 12800/60000 samples\n",
            "Read through 25600/60000 samples\n",
            "Read through 38400/60000 samples\n",
            "Read through 51200/60000 samples\n",
            "\n",
            "Epoch Train Time: 18.9837\n",
            "Train Accuracy: 0.9790 | Train Loss: 0.0642 | Test Accuracy: 0.9772 | Test Loss: 0.0746 \n",
            "\n",
            "Epoch: 6\n",
            "Read through 0/60000 samples\n",
            "Read through 12800/60000 samples\n",
            "Read through 25600/60000 samples\n",
            "Read through 38400/60000 samples\n",
            "Read through 51200/60000 samples\n",
            "\n",
            "Epoch Train Time: 17.7963\n",
            "Train Accuracy: 0.9819 | Train Loss: 0.0567 | Test Accuracy: 0.9769 | Test Loss: 0.0768 \n",
            "\n",
            "Epoch: 7\n",
            "Read through 0/60000 samples\n",
            "Read through 12800/60000 samples\n",
            "Read through 25600/60000 samples\n",
            "Read through 38400/60000 samples\n",
            "Read through 51200/60000 samples\n",
            "\n",
            "Epoch Train Time: 18.1486\n",
            "Train Accuracy: 0.9831 | Train Loss: 0.0520 | Test Accuracy: 0.9784 | Test Loss: 0.0739 \n",
            "\n",
            "Epoch: 8\n",
            "Read through 0/60000 samples\n",
            "Read through 12800/60000 samples\n",
            "Read through 25600/60000 samples\n",
            "Read through 38400/60000 samples\n",
            "Read through 51200/60000 samples\n",
            "\n",
            "Epoch Train Time: 19.1616\n",
            "Train Accuracy: 0.9839 | Train Loss: 0.0485 | Test Accuracy: 0.9782 | Test Loss: 0.0753 \n",
            "\n",
            "Epoch: 9\n",
            "Read through 0/60000 samples\n",
            "Read through 12800/60000 samples\n",
            "Read through 25600/60000 samples\n",
            "Read through 38400/60000 samples\n",
            "Read through 51200/60000 samples\n",
            "\n",
            "Epoch Train Time: 18.0051\n",
            "Train Accuracy: 0.9850 | Train Loss: 0.0442 | Test Accuracy: 0.9803 | Test Loss: 0.0729 \n",
            "\n",
            "Epoch: 10\n",
            "Read through 0/60000 samples\n",
            "Read through 12800/60000 samples\n",
            "Read through 25600/60000 samples\n",
            "Read through 38400/60000 samples\n",
            "Read through 51200/60000 samples\n",
            "\n",
            "Epoch Train Time: 18.7808\n",
            "Train Accuracy: 0.9868 | Train Loss: 0.0399 | Test Accuracy: 0.9784 | Test Loss: 0.0769 \n",
            "\n",
            "Total Time: 184.1803\n"
          ]
        }
      ]
    }
  ]
}