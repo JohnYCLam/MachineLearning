{
  "nbformat": 4,
  "nbformat_minor": 0,
  "metadata": {
    "colab": {
      "provenance": [],
      "authorship_tag": "ABX9TyPwrmlcncqDDTQ+oWfDPwtn",
      "include_colab_link": true
    },
    "kernelspec": {
      "name": "python3",
      "display_name": "Python 3"
    },
    "language_info": {
      "name": "python"
    }
  },
  "cells": [
    {
      "cell_type": "markdown",
      "metadata": {
        "id": "view-in-github",
        "colab_type": "text"
      },
      "source": [
        "<a href=\"https://colab.research.google.com/github/JohnYCLam/MachineLearning/blob/main/PyTorch_Learning.ipynb\" target=\"_parent\"><img src=\"https://colab.research.google.com/assets/colab-badge.svg\" alt=\"Open In Colab\"/></a>"
      ]
    },
    {
      "cell_type": "markdown",
      "source": [
        "# Collapse"
      ],
      "metadata": {
        "id": "JKRelvf_S_cH"
      }
    },
    {
      "cell_type": "code",
      "source": [
        "y = x + 2\n",
        "y"
      ],
      "metadata": {
        "colab": {
          "base_uri": "https://localhost:8080/"
        },
        "id": "ILGC3FOEaitF",
        "outputId": "48327d0a-7bc6-477e-dcb5-e352f2e455b7"
      },
      "execution_count": null,
      "outputs": [
        {
          "output_type": "execute_result",
          "data": {
            "text/plain": [
              "tensor([[3., 3.],\n",
              "        [3., 3.]], grad_fn=<AddBackward0>)"
            ]
          },
          "metadata": {},
          "execution_count": 19
        }
      ]
    },
    {
      "cell_type": "code",
      "execution_count": null,
      "metadata": {
        "id": "srRsW2SvGEii"
      },
      "outputs": [],
      "source": [
        "import torch"
      ]
    },
    {
      "cell_type": "code",
      "source": [
        "x = torch.ones(2, 2, requires_grad = True)"
      ],
      "metadata": {
        "id": "GR18Ky4uJg-i"
      },
      "execution_count": null,
      "outputs": []
    },
    {
      "cell_type": "code",
      "source": [
        "z = y * 3\n",
        "out = z.mean()\n",
        "out"
      ],
      "metadata": {
        "colab": {
          "base_uri": "https://localhost:8080/"
        },
        "id": "kdtcT1A9anq1",
        "outputId": "efce47da-25cc-4d94-8760-9298de944f27"
      },
      "execution_count": null,
      "outputs": [
        {
          "output_type": "execute_result",
          "data": {
            "text/plain": [
              "tensor(9., grad_fn=<MeanBackward0>)"
            ]
          },
          "metadata": {},
          "execution_count": 20
        }
      ]
    },
    {
      "cell_type": "code",
      "source": [
        "out.backward()"
      ],
      "metadata": {
        "id": "P2Nh3TPwatPN"
      },
      "execution_count": null,
      "outputs": []
    },
    {
      "cell_type": "code",
      "source": [
        "print(x.grad)"
      ],
      "metadata": {
        "colab": {
          "base_uri": "https://localhost:8080/"
        },
        "id": "HeojS-7kaxfX",
        "outputId": "634a76bb-917c-4182-8a43-3b950204f6f6"
      },
      "execution_count": null,
      "outputs": [
        {
          "output_type": "stream",
          "name": "stdout",
          "text": [
            "tensor([[0.7500, 0.7500],\n",
            "        [0.7500, 0.7500]])\n"
          ]
        }
      ]
    },
    {
      "cell_type": "code",
      "source": [
        "with torch.no_grad():\n",
        "  (x**2).requires_grad"
      ],
      "metadata": {
        "id": "xvZs2GMecgXo"
      },
      "execution_count": null,
      "outputs": []
    },
    {
      "cell_type": "code",
      "source": [
        "import torch.nn as nn"
      ],
      "metadata": {
        "id": "EK-o2uEGcnw2"
      },
      "execution_count": null,
      "outputs": []
    },
    {
      "cell_type": "code",
      "source": [
        "X = torch.ones((64, 3, 256, 256))"
      ],
      "metadata": {
        "id": "W46WBa4yc10g"
      },
      "execution_count": null,
      "outputs": []
    },
    {
      "cell_type": "code",
      "source": [
        "conv = nn.Conv2d(in_channels = 3, out_channels = 8, kernel_size = 3, stride = 1, padding = 1)"
      ],
      "metadata": {
        "id": "Y58Nyh-sc5gH"
      },
      "execution_count": null,
      "outputs": []
    },
    {
      "cell_type": "code",
      "source": [
        "import torchvision.transforms as transforms\n",
        "\n",
        "transform = transforms.Compose(\n",
        "    [transforms.ToTensor(), transforms.Normalize((0.5, 0.5, 0.5), (0.5, 0.5, 0.5))]\n",
        ")"
      ],
      "metadata": {
        "id": "zxW5Lf0nkp9c"
      },
      "execution_count": null,
      "outputs": []
    },
    {
      "cell_type": "code",
      "source": [
        "import torch\n",
        "import torchvision\n",
        "\n",
        "train_set = torchvision.datasets.CIFAR10(\n",
        "    root = './data', train = True, download = True, transform = transform\n",
        ")\n",
        "\n",
        "train_loader = torch.utils.data.DataLoader(\n",
        "    train_set, batch_size = 8, shuffle = True, num_workers = 2\n",
        ")"
      ],
      "metadata": {
        "colab": {
          "base_uri": "https://localhost:8080/"
        },
        "id": "cd-jPN0fk7ac",
        "outputId": "b046e5f1-8929-496d-e988-210f8ec1ed13"
      },
      "execution_count": null,
      "outputs": [
        {
          "output_type": "stream",
          "name": "stdout",
          "text": [
            "Downloading https://www.cs.toronto.edu/~kriz/cifar-10-python.tar.gz to ./data/cifar-10-python.tar.gz\n"
          ]
        },
        {
          "output_type": "stream",
          "name": "stderr",
          "text": [
            "100%|██████████| 170M/170M [00:02<00:00, 72.6MB/s]\n"
          ]
        },
        {
          "output_type": "stream",
          "name": "stdout",
          "text": [
            "Extracting ./data/cifar-10-python.tar.gz to ./data\n"
          ]
        }
      ]
    },
    {
      "cell_type": "code",
      "source": [
        "import torch.nn.functional as F"
      ],
      "metadata": {
        "id": "sGbKAEwuof_q"
      },
      "execution_count": null,
      "outputs": []
    },
    {
      "cell_type": "code",
      "source": [
        "class Net(nn.Module):\n",
        "  def __init__(self):\n",
        "    super().__init__()\n",
        "    self.conv1 = nn.Conv2d(3, 6, 5)\n",
        "    self.pool = nn.MaxPool2d(2, 2)\n",
        "    self.conv2 = nn.Conv2d(6, 16, 5)\n",
        "    self.fc1 = nn.Linear(16 * 5 * 5, 120)\n",
        "    self.fc2 = nn.Linear(120, 84)\n",
        "    self.fc3 = nn.Linear(84, 10)\n",
        "\n",
        "  def forward(self, x):\n",
        "    x = self.pool(F.relu(self.conv1(x)))\n",
        "    x = self.pool(F.relu(self.conv2(x)))\n",
        "    x = torch.flatten(x, 1)\n",
        "    x = F.relu(self.fc1(x))\n",
        "    x = F.relu(self.fc2(x))\n",
        "    return self.fc3(x)"
      ],
      "metadata": {
        "id": "oTrqW_4VdbC3"
      },
      "execution_count": null,
      "outputs": []
    },
    {
      "cell_type": "code",
      "source": [
        "import torch.optim as optim\n",
        "net = Net()\n",
        "criterion = nn.CrossEntropyLoss()\n",
        "optimizer = optim.SGD(net.parameters(), lr = 0.001, momentum = 0.9)"
      ],
      "metadata": {
        "id": "fiyIOwtRrxBb"
      },
      "execution_count": null,
      "outputs": []
    },
    {
      "cell_type": "code",
      "source": [
        "net.train()"
      ],
      "metadata": {
        "colab": {
          "base_uri": "https://localhost:8080/"
        },
        "id": "SghmugB8slr0",
        "outputId": "d13b5c92-131f-4173-d911-4d277020f3ba"
      },
      "execution_count": null,
      "outputs": [
        {
          "output_type": "execute_result",
          "data": {
            "text/plain": [
              "Net(\n",
              "  (conv1): Conv2d(3, 6, kernel_size=(5, 5), stride=(1, 1))\n",
              "  (pool): MaxPool2d(kernel_size=2, stride=2, padding=0, dilation=1, ceil_mode=False)\n",
              "  (conv2): Conv2d(6, 16, kernel_size=(5, 5), stride=(1, 1))\n",
              "  (fc1): Linear(in_features=400, out_features=120, bias=True)\n",
              "  (fc2): Linear(in_features=120, out_features=84, bias=True)\n",
              "  (fc3): Linear(in_features=84, out_features=10, bias=True)\n",
              ")"
            ]
          },
          "metadata": {},
          "execution_count": 62
        }
      ]
    },
    {
      "cell_type": "code",
      "source": [
        "for epoch in range(10):\n",
        "  for inputs, labels in train_loader:\n",
        "    optimizer.zero_grad()\n",
        "    outputs = net(inputs)\n",
        "    loss = criterion(outputs, labels)\n",
        "    loss.backward()\n",
        "    optimizer.step()"
      ],
      "metadata": {
        "id": "iI3DYGzxsoq9"
      },
      "execution_count": null,
      "outputs": []
    },
    {
      "cell_type": "markdown",
      "source": [
        "# Simple Linear Regression Model"
      ],
      "metadata": {
        "id": "EKkhT4X4TFS2"
      }
    },
    {
      "cell_type": "code",
      "source": [
        "import torch\n",
        "import torch.nn as nn"
      ],
      "metadata": {
        "id": "5GvIvrQeVpEf"
      },
      "execution_count": null,
      "outputs": []
    },
    {
      "cell_type": "code",
      "source": [
        "#synthetic data\n",
        "weight = 0.7\n",
        "bias = 0.3\n",
        "\n",
        "start = 0\n",
        "end = 1\n",
        "step = 0.02\n",
        "\n",
        "X = torch.arange(start, end, step).unsqueeze(1)\n",
        "y = weight * X + bias"
      ],
      "metadata": {
        "id": "0ujpjORsTJN2"
      },
      "execution_count": null,
      "outputs": []
    },
    {
      "cell_type": "code",
      "source": [
        "split = int(len(X) * 0.8)\n",
        "X_train = X[:split]\n",
        "y_train = y[:split]\n",
        "X_test = X[split:]\n",
        "y_test = y[split:]\n",
        "print(len(X_train), len(y_train), len(X_test), len(y_test))"
      ],
      "metadata": {
        "colab": {
          "base_uri": "https://localhost:8080/"
        },
        "id": "WQZP7munWDlf",
        "outputId": "44c4d020-d638-47e9-82db-8263833275fd"
      },
      "execution_count": null,
      "outputs": [
        {
          "output_type": "stream",
          "name": "stdout",
          "text": [
            "40 40 10 10\n"
          ]
        }
      ]
    },
    {
      "cell_type": "code",
      "source": [
        "class SimpleLinearRegression(nn.Module):\n",
        "    def __init__(self):\n",
        "        super().__init__()\n",
        "        self.weights = nn.Parameter(torch.randn(1, dtype = torch.float, requires_grad = True))\n",
        "        self.bias = nn.Parameter(torch.randn(1, dtype = torch.float, requires_grad = True))\n",
        "\n",
        "    def forward(self, x):\n",
        "        return self.weights * x + self.bias"
      ],
      "metadata": {
        "id": "LVcxtVQKWmu7"
      },
      "execution_count": null,
      "outputs": []
    },
    {
      "cell_type": "code",
      "source": [
        "torch.manual_seed(42)\n",
        "\n",
        "model_0 = SimpleLinearRegression()\n",
        "\n",
        "list(model_0.parameters())"
      ],
      "metadata": {
        "colab": {
          "base_uri": "https://localhost:8080/"
        },
        "id": "43PEEyCoYzSN",
        "outputId": "221448b1-8734-45ed-eb93-0d62c849a221"
      },
      "execution_count": null,
      "outputs": [
        {
          "output_type": "execute_result",
          "data": {
            "text/plain": [
              "[Parameter containing:\n",
              " tensor([0.3367], requires_grad=True),\n",
              " Parameter containing:\n",
              " tensor([0.1288], requires_grad=True)]"
            ]
          },
          "metadata": {},
          "execution_count": 8
        }
      ]
    },
    {
      "cell_type": "code",
      "source": [
        "model_0.state_dict()"
      ],
      "metadata": {
        "colab": {
          "base_uri": "https://localhost:8080/"
        },
        "id": "GJ7Ehc7yarmW",
        "outputId": "6c02d67d-f4fb-4e66-c577-eb2df210a9b7"
      },
      "execution_count": null,
      "outputs": [
        {
          "output_type": "execute_result",
          "data": {
            "text/plain": [
              "OrderedDict([('weights', tensor([0.3367])), ('bias', tensor([0.1288]))])"
            ]
          },
          "metadata": {},
          "execution_count": 9
        }
      ]
    },
    {
      "cell_type": "code",
      "source": [
        "#prediction\n",
        "with torch.inference_mode():\n",
        "    y_pred = model_0(X_test)"
      ],
      "metadata": {
        "id": "OtvXcwB1axRu"
      },
      "execution_count": null,
      "outputs": []
    },
    {
      "cell_type": "code",
      "source": [
        "import matplotlib.pyplot as plt"
      ],
      "metadata": {
        "id": "iSHPAu5abwBN"
      },
      "execution_count": null,
      "outputs": []
    },
    {
      "cell_type": "code",
      "source": [
        "fig, ax = plt.subplots()\n",
        "ax.scatter(X_test, y_test, label = 'True Value')\n",
        "ax.scatter(X_test, y_pred, label = 'Prediction')\n",
        "ax.legend()\n",
        "plt.show()"
      ],
      "metadata": {
        "colab": {
          "base_uri": "https://localhost:8080/",
          "height": 430
        },
        "id": "M5P8ZJtnb08a",
        "outputId": "42c32bfc-a3ab-45e8-d3d5-ea51dff65342"
      },
      "execution_count": null,
      "outputs": [
        {
          "output_type": "display_data",
          "data": {
            "text/plain": [
              "<Figure size 640x480 with 1 Axes>"
            ],
            "image/png": "[encoded data removed]"
          },
          "metadata": {}
        }
      ]
    },
    {
      "cell_type": "code",
      "source": [
        "loss_fcn = nn.MSELoss()\n",
        "optimizer = torch.optim.SGD(params = model_0.parameters(), lr = 0.01)"
      ],
      "metadata": {
        "id": "6KU5b8FwcoHX"
      },
      "execution_count": null,
      "outputs": []
    },
    {
      "cell_type": "code",
      "source": [
        "epochs = 100\n",
        "train_loss_values = []\n",
        "test_loss_values = []\n",
        "epoch_count = []\n",
        "\n",
        "for epoch in range(epochs):\n",
        "\n",
        "    #reset model state\n",
        "    model_0.train()\n",
        "\n",
        "    #forward propagation\n",
        "    y_pred = model_0.forward(X_train)\n",
        "\n",
        "    #calculate loss\n",
        "    train_loss = loss_fcn(y_pred, y_train)\n",
        "\n",
        "    #set gradient to zero\n",
        "    optimizer.zero_grad()\n",
        "\n",
        "    #back propagation\n",
        "    train_loss.backward()\n",
        "\n",
        "    #update weights\n",
        "    optimizer.step()\n",
        "\n",
        "    #evaluate on test set\n",
        "    model_0.eval()\n",
        "\n",
        "    with torch.inference_mode():\n",
        "        #test set predictions\n",
        "        test_pred = model_0(X_test)\n",
        "\n",
        "        #test loss\n",
        "        test_loss = loss_fcn(test_pred, y_test.type(torch.float))\n",
        "\n",
        "        if epoch%10 == 0:\n",
        "            epoch_count.append(epoch)\n",
        "            train_loss_values.append(train_loss.detach().numpy())\n",
        "            test_loss_values.append(test_loss.detach().numpy())\n",
        "            print(f'Epoch: {epoch} | MSE Train Loss: {train_loss} | MSE Test Loss: {test_loss}')"
      ],
      "metadata": {
        "colab": {
          "base_uri": "https://localhost:8080/"
        },
        "id": "cvXsJ1nbgDdS",
        "outputId": "6c30c913-20ab-4cf8-c7b8-f69417841b5d"
      },
      "execution_count": null,
      "outputs": [
        {
          "output_type": "stream",
          "name": "stdout",
          "text": [
            "Epoch: 0 | MSE Train Loss: 0.10493002086877823 | MSE Test Loss: 0.23639337718486786\n",
            "Epoch: 10 | MSE Train Loss: 0.06683927774429321 | MSE Test Loss: 0.16711154580116272\n",
            "Epoch: 20 | MSE Train Loss: 0.04299221560359001 | MSE Test Loss: 0.12065689265727997\n",
            "Epoch: 30 | MSE Train Loss: 0.028054703027009964 | MSE Test Loss: 0.08913629502058029\n",
            "Epoch: 40 | MSE Train Loss: 0.01869034208357334 | MSE Test Loss: 0.06747110188007355\n",
            "Epoch: 50 | MSE Train Loss: 0.012812281027436256 | MSE Test Loss: 0.05237375572323799\n",
            "Epoch: 60 | MSE Train Loss: 0.00911521352827549 | MSE Test Loss: 0.041701000183820724\n",
            "Epoch: 70 | MSE Train Loss: 0.006782688200473785 | MSE Test Loss: 0.03404407948255539\n",
            "Epoch: 80 | MSE Train Loss: 0.005304032005369663 | MSE Test Loss: 0.02846846543252468\n",
            "Epoch: 90 | MSE Train Loss: 0.004359802696853876 | MSE Test Loss: 0.024347715079784393\n"
          ]
        }
      ]
    },
    {
      "cell_type": "code",
      "source": [
        "fig, ax = plt.subplots()\n",
        "plt.plot(epoch_count, train_loss_values, label = 'Train Loss')\n",
        "plt.plot(epoch_count, test_loss_values, label = 'Test Loss')\n",
        "ax.legend()\n",
        "plt.show()"
      ],
      "metadata": {
        "colab": {
          "base_uri": "https://localhost:8080/",
          "height": 430
        },
        "id": "mnzkIA-picNY",
        "outputId": "51f1f3d4-843e-4c25-c456-7e12bd50bad1"
      },
      "execution_count": null,
      "outputs": [
        {
          "output_type": "display_data",
          "data": {
            "text/plain": [
              "<Figure size 640x480 with 1 Axes>"
            ],
            "image/png": "[encoded data removed]"
          },
          "metadata": {}
        }
      ]
    },
    {
      "cell_type": "code",
      "source": [
        "#inspect the updated weights\n",
        "model_0.state_dict()"
      ],
      "metadata": {
        "colab": {
          "base_uri": "https://localhost:8080/"
        },
        "id": "jobVqHNfizks",
        "outputId": "5c3aef41-9dc2-424b-b76d-2cdc5c3754bc"
      },
      "execution_count": null,
      "outputs": [
        {
          "output_type": "execute_result",
          "data": {
            "text/plain": [
              "OrderedDict([('weights', tensor([0.4600])), ('bias', tensor([0.3675]))])"
            ]
          },
          "metadata": {},
          "execution_count": 26
        }
      ]
    },
    {
      "cell_type": "code",
      "source": [
        "#Make prediction\n",
        "model_0.eval()\n",
        "with torch.inference_mode():\n",
        "    y_test_pred = model_0(X_test)\n",
        "\n",
        "fig, ax = plt.subplots()\n",
        "plt.plot(X_test, y_test, label = 'Test Set')\n",
        "plt.plot(X_test, y_test_pred, label = 'Prediction')\n",
        "ax.legend()\n",
        "plt.show()"
      ],
      "metadata": {
        "colab": {
          "base_uri": "https://localhost:8080/",
          "height": 430
        },
        "id": "M7MiQLzcjDIs",
        "outputId": "e9529f8d-0e42-423d-daa2-fa6a3c077573"
      },
      "execution_count": null,
      "outputs": [
        {
          "output_type": "display_data",
          "data": {
            "text/plain": [
              "<Figure size 640x480 with 1 Axes>"
            ],
            "image/png": "[encoded data removed]"
          },
          "metadata": {}
        }
      ]
    },
    {
      "cell_type": "code",
      "source": [
        "#save the model params\n",
        "from pathlib import Path\n",
        "\n",
        "MODEL_PATH = Path('models')\n",
        "MODEL_PATH.mkdir(parents = True, exist_ok = True)\n",
        "\n",
        "MODEL_NAME = '01_SimpleLinearRegressionModel'\n",
        "MODEL_SAVE_PATH = MODEL_PATH / MODEL_NAME\n",
        "\n",
        "print(f'Saving the model to: {MODEL_SAVE_PATH}')\n",
        "torch.save(obj = model_0.state_dict(), f = MODEL_SAVE_PATH)"
      ],
      "metadata": {
        "colab": {
          "base_uri": "https://localhost:8080/"
        },
        "id": "fRx_VRAjkqus",
        "outputId": "881f0b2c-0aa5-4d9a-e6b6-9416ca8e5c91"
      },
      "execution_count": null,
      "outputs": [
        {
          "output_type": "stream",
          "name": "stdout",
          "text": [
            "Saving the model to: models/01_SimpleLinearRegressionModel\n"
          ]
        }
      ]
    },
    {
      "cell_type": "code",
      "source": [
        "!ls -l models/01_SimpleLinearRegressionModel"
      ],
      "metadata": {
        "colab": {
          "base_uri": "https://localhost:8080/"
        },
        "id": "5NCyStFblmk8",
        "outputId": "9a4cbc4e-7033-4bce-86cb-394e7c0df453"
      },
      "execution_count": null,
      "outputs": [
        {
          "output_type": "stream",
          "name": "stdout",
          "text": [
            "-rw-r--r-- 1 root root 1698 Nov  9 01:42 models/01_SimpleLinearRegressionModel\n"
          ]
        }
      ]
    },
    {
      "cell_type": "code",
      "source": [
        "#load the model params\n",
        "loaded_model_0 = SimpleLinearRegression()\n",
        "\n",
        "loaded_model_0.load_state_dict(torch.load(f = MODEL_SAVE_PATH, weights_only = True))"
      ],
      "metadata": {
        "colab": {
          "base_uri": "https://localhost:8080/"
        },
        "id": "t6pww8LdlsGa",
        "outputId": "567035f2-a223-4543-a605-1d03160e756c"
      },
      "execution_count": null,
      "outputs": [
        {
          "output_type": "execute_result",
          "data": {
            "text/plain": [
              "<All keys matched successfully>"
            ]
          },
          "metadata": {},
          "execution_count": 34
        }
      ]
    },
    {
      "cell_type": "code",
      "source": [
        "loaded_model_0.eval()\n",
        "with torch.inference_mode():\n",
        "    loaded_model_0_pred = loaded_model_0(X_test)"
      ],
      "metadata": {
        "id": "FFPT5H5emS_u"
      },
      "execution_count": null,
      "outputs": []
    },
    {
      "cell_type": "code",
      "source": [
        "loaded_model_0_pred == y_test_pred"
      ],
      "metadata": {
        "id": "h-nN4yJhmeBB",
        "outputId": "9b9751ba-6b72-4ac3-e0a6-22e333e089ac",
        "colab": {
          "base_uri": "https://localhost:8080/"
        }
      },
      "execution_count": null,
      "outputs": [
        {
          "output_type": "execute_result",
          "data": {
            "text/plain": [
              "tensor([[True],\n",
              "        [True],\n",
              "        [True],\n",
              "        [True],\n",
              "        [True],\n",
              "        [True],\n",
              "        [True],\n",
              "        [True],\n",
              "        [True],\n",
              "        [True]])"
            ]
          },
          "metadata": {},
          "execution_count": 36
        }
      ]
    }
  ]
}